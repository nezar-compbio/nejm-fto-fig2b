{
 "metadata": {
  "name": ""
 },
 "nbformat": 3,
 "nbformat_minor": 0,
 "worksheets": [
  {
   "cells": [
    {
     "cell_type": "code",
     "collapsed": false,
     "input": [
      "%%bash\n",
      "\n",
      "cd ldmatrix\n",
      "\n",
      "PATH=../progs/plink-1.9:../progs/vcftools-0.1.12a/bin:$PATH\n",
      "BASE_NAME=ALL-chr16-section\n",
      "START=52800000\n",
      "STOP=56000000\n",
      "\n",
      "# URL=ftp://ftp-trace.ncbi.nih.gov/1000genomes/ftp/release/20110521/ALL.chr16.phase1_release_v3.20101123.snps_indels_svs.genotypes.vcf.gz\n",
      "# echo \"Fetch chr16 variants and filter by position\"\n",
      "# tabix -h $URL 16:$START:$STOP | gzip -c > \"${BASE_NAME}.vcf.gz\"\n",
      "#\n",
      "# It's faster to just use the data slicer at\n",
      "# http://browser.1000genomes.org/Homo_sapiens/UserData/SelectSlice\n",
      "\n",
      "echo \"Converting vcf file to plink input formats (map and ped)\"\n",
      "# Note: Could apply some filtering here...\n",
      "vcftools --gzvcf \"../data/${BASE_NAME}.vcf.gz\" --plink --out out\n",
      "mv out.map \"${BASE_NAME}.map\"\n",
      "mv out.ped \"${BASE_NAME}.ped\"\n",
      "mv out.log \"vcftools.log\"\n",
      "\n",
      "echo \"Generating complete LD r2 map\"\n",
      "plink --file $BASE_NAME --r2 square0 bin single-prec --out out\n",
      "mv out.ld.bin \"${BASE_NAME}.ld.tril.bin\"\n",
      "mv out.log \"plink.log\""
     ],
     "language": "python",
     "metadata": {},
     "outputs": []
    },
    {
     "cell_type": "code",
     "collapsed": false,
     "input": [
      "from __future__ import division\n",
      "import numpy as np\n",
      "import pandas\n",
      "\n",
      "START = 52800000\n",
      "STOP = 56000000\n",
      "BINSIZE = 40000\n",
      "THRESH = 0.1\n",
      "\n",
      "%cd ldmatrix"
     ],
     "language": "python",
     "metadata": {},
     "outputs": []
    },
    {
     "cell_type": "code",
     "collapsed": false,
     "input": [
      "# read in map file\n",
      "snps = pandas.read_csv('./ALL-chr16-section.map', \n",
      "    header=None, \n",
      "    names=['chrom', 'id', '_', 'POS'], \n",
      "    delimiter='\\t')\n",
      "total_snps = len(snps)"
     ],
     "language": "python",
     "metadata": {},
     "outputs": []
    },
    {
     "cell_type": "code",
     "collapsed": false,
     "input": [
      "# the rows are snps sorted by bp position\n",
      "# group them into genomic bins of equal width\n",
      "interval_map = pandas.cut(snps['POS'], range(START, STOP+BINSIZE, BINSIZE))\n",
      "gby = snps.groupby(interval_map)\n",
      "num_bins = len(gby.groups)\n",
      "snpcounts = [len(gby.get_group(interval)) for interval in sorted(gby.groups.keys())]\n",
      "\n",
      "# find the row positions that mark the bin edges\n",
      "edges = np.r_[0, np.cumsum(snpcounts)]\n",
      "edge_pairs = zip(edges[:-1], edges[1:])"
     ],
     "language": "python",
     "metadata": {},
     "outputs": []
    },
    {
     "cell_type": "code",
     "collapsed": false,
     "input": [
      "# load binary ld matrix\n",
      "mmap = np.memmap('./ALL-chr16-section.ld.tril.bin', dtype=np.float32)\n",
      "mmap.resize(total_snps, total_snps)"
     ],
     "language": "python",
     "metadata": {},
     "outputs": []
    },
    {
     "cell_type": "code",
     "collapsed": false,
     "input": [
      "# reduce the ld matrix  --> mean r2 values\n",
      "R2mean = np.zeros((num_bins, num_bins), dtype=np.float32)\n",
      "for i, (i1, i2) in enumerate(edge_pairs):\n",
      "    for j, (j1, j2) in enumerate(edge_pairs):\n",
      "        x = mmap[i1:i2, j1:j2]\n",
      "        R2mean[i,j] = np.mean(x[np.isfinite(x)])\n",
      "\n",
      "# reduce the ld matrix --> freq of r2's above a threshold\n",
      "R2freq = np.zeros((num_bins, num_bins), dtype=np.float32)\n",
      "for i, (i1, i2) in enumerate(edge_pairs):\n",
      "    for j, (j1, j2) in enumerate(edge_pairs):\n",
      "        x = mmap[i1:i2, j1:j2]\n",
      "        R2freq[i,j] = np.sum(x[np.isfinite(x)] >= THRESH)/snpcounts[i]/snpcounts[j]"
     ],
     "language": "python",
     "metadata": {},
     "outputs": []
    },
    {
     "cell_type": "code",
     "collapsed": false,
     "input": [
      "# save reduced matrices\n",
      "np.savetxt('ldmatrix-binned-mean.txt.gz', R2mean)\n",
      "np.savetxt('ldmatrix-binned-freq-t%s.txt.gz' % THRESH, R2freq)"
     ],
     "language": "python",
     "metadata": {},
     "outputs": []
    }
   ],
   "metadata": {}
  }
 ]
}